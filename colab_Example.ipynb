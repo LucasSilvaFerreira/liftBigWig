{
  "nbformat": 4,
  "nbformat_minor": 0,
  "metadata": {
    "colab": {
      "provenance": []
    },
    "kernelspec": {
      "name": "python3",
      "display_name": "Python 3"
    },
    "language_info": {
      "name": "python"
    }
  },
  "cells": [
    {
      "cell_type": "code",
      "execution_count": 1,
      "metadata": {
        "colab": {
          "base_uri": "https://localhost:8080/"
        },
        "id": "JWZgTaJq0GFR",
        "outputId": "1f2fae34-ba1f-4cc0-bdd6-1a06f13a4659"
      },
      "outputs": [
        {
          "output_type": "stream",
          "name": "stdout",
          "text": [
            "Collecting git+https://github.com/LucasSilvaFerreira/liftBigWig.git\n",
            "  Cloning https://github.com/LucasSilvaFerreira/liftBigWig.git to /tmp/pip-req-build-6v1nyqw2\n",
            "  Running command git clone --filter=blob:none --quiet https://github.com/LucasSilvaFerreira/liftBigWig.git /tmp/pip-req-build-6v1nyqw2\n",
            "  Resolved https://github.com/LucasSilvaFerreira/liftBigWig.git to commit 8a8edcbf9e2bf36f90287e7a9cf8af370d41f1c9\n",
            "  Preparing metadata (setup.py) ... \u001b[?25l\u001b[?25hdone\n",
            "Collecting CrossMap (from liftBigWig==0.0.1)\n",
            "  Downloading CrossMap-0.7.0-py3-none-any.whl (41 kB)\n",
            "\u001b[2K     \u001b[90m━━━━━━━━━━━━━━━━━━━━━━━━━━━━━━━━━━━━━━━━\u001b[0m \u001b[32m41.7/41.7 kB\u001b[0m \u001b[31m1.1 MB/s\u001b[0m eta \u001b[36m0:00:00\u001b[0m\n",
            "\u001b[?25hCollecting pysam (from CrossMap->liftBigWig==0.0.1)\n",
            "  Downloading pysam-0.22.1-cp310-cp310-manylinux_2_28_x86_64.whl (22.0 MB)\n",
            "\u001b[2K     \u001b[90m━━━━━━━━━━━━━━━━━━━━━━━━━━━━━━━━━━━━━━━━\u001b[0m \u001b[32m22.0/22.0 MB\u001b[0m \u001b[31m37.9 MB/s\u001b[0m eta \u001b[36m0:00:00\u001b[0m\n",
            "\u001b[?25hCollecting bx-python (from CrossMap->liftBigWig==0.0.1)\n",
            "  Downloading bx_python-0.12.0-cp310-cp310-manylinux_2_17_x86_64.manylinux2014_x86_64.whl (5.5 MB)\n",
            "\u001b[2K     \u001b[90m━━━━━━━━━━━━━━━━━━━━━━━━━━━━━━━━━━━━━━━━\u001b[0m \u001b[32m5.5/5.5 MB\u001b[0m \u001b[31m48.2 MB/s\u001b[0m eta \u001b[36m0:00:00\u001b[0m\n",
            "\u001b[?25hCollecting pyBigWig (from CrossMap->liftBigWig==0.0.1)\n",
            "  Downloading pyBigWig-0.3.23-cp310-cp310-manylinux_2_17_x86_64.manylinux2014_x86_64.whl (184 kB)\n",
            "\u001b[2K     \u001b[90m━━━━━━━━━━━━━━━━━━━━━━━━━━━━━━━━━━━━━━━━\u001b[0m \u001b[32m184.6/184.6 kB\u001b[0m \u001b[31m19.1 MB/s\u001b[0m eta \u001b[36m0:00:00\u001b[0m\n",
            "\u001b[?25hRequirement already satisfied: numpy in /usr/local/lib/python3.10/dist-packages (from bx-python->CrossMap->liftBigWig==0.0.1) (1.25.2)\n",
            "Building wheels for collected packages: liftBigWig\n",
            "  Building wheel for liftBigWig (setup.py) ... \u001b[?25l\u001b[?25hdone\n",
            "  Created wheel for liftBigWig: filename=liftBigWig-0.0.1-py3-none-any.whl size=2903 sha256=08434ecaa93c235000d372c9ccebec2485be98a668e73a71fcdf24c8a933a444\n",
            "  Stored in directory: /tmp/pip-ephem-wheel-cache-x1q_rza1/wheels/9b/d5/1b/e14a4dd9abe6ee0c6708ea52e520700b9b45d8661488e04838\n",
            "Successfully built liftBigWig\n",
            "Installing collected packages: pysam, pyBigWig, bx-python, CrossMap, liftBigWig\n",
            "Successfully installed CrossMap-0.7.0 bx-python-0.12.0 liftBigWig-0.0.1 pyBigWig-0.3.23 pysam-0.22.1\n"
          ]
        }
      ],
      "source": [
        "!pip install git+https://github.com/LucasSilvaFerreira/liftBigWig.git\n"
      ]
    },
    {
      "cell_type": "code",
      "source": [
        "!wget https://ftp.ncbi.nlm.nih.gov/geo/samples/GSM3669nnn/GSM3669509/suppl/GSM3669509%5FGS702%5FK562%5FWT%5FH3K27ac%5FChIPseq%5Fm1.ucsc.bigWig -O k562_h3k27ac_hg38.bw"
      ],
      "metadata": {
        "colab": {
          "base_uri": "https://localhost:8080/"
        },
        "id": "spX4ogsc01Ql",
        "outputId": "55c862e2-bab2-41f0-da08-b0cfeb687932"
      },
      "execution_count": 2,
      "outputs": [
        {
          "output_type": "stream",
          "name": "stdout",
          "text": [
            "--2024-07-03 18:20:39--  https://ftp.ncbi.nlm.nih.gov/geo/samples/GSM3669nnn/GSM3669509/suppl/GSM3669509%5FGS702%5FK562%5FWT%5FH3K27ac%5FChIPseq%5Fm1.ucsc.bigWig\n",
            "Resolving ftp.ncbi.nlm.nih.gov (ftp.ncbi.nlm.nih.gov)... 130.14.250.7, 130.14.250.10, 2607:f220:41e:250::10, ...\n",
            "Connecting to ftp.ncbi.nlm.nih.gov (ftp.ncbi.nlm.nih.gov)|130.14.250.7|:443... connected.\n",
            "HTTP request sent, awaiting response... 200 OK\n",
            "Length: 285670273 (272M)\n",
            "Saving to: ‘k562_h3k27ac_hg38.bw’\n",
            "\n",
            "k562_h3k27ac_hg38.b 100%[===================>] 272.44M  35.7MB/s    in 8.1s    \n",
            "\n",
            "2024-07-03 18:20:48 (33.7 MB/s) - ‘k562_h3k27ac_hg38.bw’ saved [285670273/285670273]\n",
            "\n"
          ]
        }
      ]
    },
    {
      "cell_type": "code",
      "source": [
        "from liftBigWig import convert_bigwig\n",
        "\n",
        "convert_bigwig(\"k562_h3k27ac_hg38.bw\", \" k562_h3k27ac_hg19.bw\", \"hg38\", \"hg19\")\n"
      ],
      "metadata": {
        "colab": {
          "base_uri": "https://localhost:8080/"
        },
        "id": "O1sdtu-h0MPT",
        "outputId": "08e81d8e-824e-4e4d-f7de-7d8e5e50ea13"
      },
      "execution_count": null,
      "outputs": [
        {
          "output_type": "stream",
          "name": "stdout",
          "text": [
            "\u001b[K[6/9] 🚀 Converting coordinates with CrossMap..."
          ]
        }
      ]
    },
    {
      "cell_type": "code",
      "source": [],
      "metadata": {
        "id": "XbfYQesW1DoR"
      },
      "execution_count": null,
      "outputs": []
    }
  ]
}